{
  "cells": [
    {
      "cell_type": "markdown",
      "metadata": {
        "id": "bKjvXPLM4qlI"
      },
      "source": [
        "# Tensor in PyTorch\n",
        "In `pytorch`, we use `torch.Tensor` object to represent data matrix. It is a lot like `numpy` array but not quite the same. `torch` provide APIs to easily convert data between `numpy` array and `torch.Tensor`. Let's play a little bit."
      ]
    },
    {
      "cell_type": "code",
      "execution_count": 1,
      "metadata": {
        "id": "BU1tQPBk4qlK"
      },
      "outputs": [],
      "source": [
        "from __future__ import print_function\n",
        "import numpy as np\n",
        "import torch"
      ]
    },
    {
      "cell_type": "code",
      "source": [
        "# prompt: generate 1 to 9 numbers 3 x3 matrix and a a 3 X 1 vector 10 to 12\n",
        "\n",
        "import numpy as np\n",
        "data = np.arange(1, 10).reshape(3, 3)\n",
        "\n",
        "vector = np.arange(10, 13).reshape(3, 1)\n",
        "\n",
        "torch_data = torch.from_numpy(data)\n",
        "torch_data\n",
        "\n",
        "torch_vector = torch.from_numpy(vector)\n",
        "torch_vector"
      ],
      "metadata": {
        "id": "nX4n9zDi8EKV",
        "outputId": "cb94d579-3f8c-434f-d6ad-105bf4294ff3",
        "colab": {
          "base_uri": "https://localhost:8080/"
        }
      },
      "execution_count": 2,
      "outputs": [
        {
          "output_type": "stream",
          "name": "stdout",
          "text": [
            "[[1 2 3]\n",
            " [4 5 6]\n",
            " [7 8 9]]\n"
          ]
        },
        {
          "output_type": "execute_result",
          "data": {
            "text/plain": [
              "array([[10],\n",
              "       [11],\n",
              "       [12]])"
            ]
          },
          "metadata": {},
          "execution_count": 2
        }
      ]
    }
  ],
  "metadata": {
    "kernelspec": {
      "display_name": "Python 2",
      "language": "python",
      "name": "python2"
    },
    "language_info": {
      "codemirror_mode": {
        "name": "ipython",
        "version": 2
      },
      "file_extension": ".py",
      "mimetype": "text/x-python",
      "name": "python",
      "nbconvert_exporter": "python",
      "pygments_lexer": "ipython2",
      "version": "2.7.12"
    },
    "colab": {
      "provenance": []
    }
  },
  "nbformat": 4,
  "nbformat_minor": 0
}